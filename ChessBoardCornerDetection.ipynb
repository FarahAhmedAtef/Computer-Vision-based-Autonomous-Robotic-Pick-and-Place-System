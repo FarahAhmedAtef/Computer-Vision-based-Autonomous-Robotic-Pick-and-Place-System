{
  "nbformat": 4,
  "nbformat_minor": 0,
  "metadata": {
    "colab": {
      "provenance": [],
      "authorship_tag": "ABX9TyPR8JWuuGS7w0R7PBF04n7V",
      "include_colab_link": true
    },
    "kernelspec": {
      "name": "python3",
      "display_name": "Python 3"
    },
    "language_info": {
      "name": "python"
    }
  },
  "cells": [
    {
      "cell_type": "markdown",
      "metadata": {
        "id": "view-in-github",
        "colab_type": "text"
      },
      "source": [
        "<a href=\"https://colab.research.google.com/github/FarahAhmedAtef/Computer-Vision-based-Autonomous-Robotic-Pick-and-Place-System/blob/main/ChessBoardCornerDetection.ipynb\" target=\"_parent\"><img src=\"https://colab.research.google.com/assets/colab-badge.svg\" alt=\"Open In Colab\"/></a>"
      ]
    },
    {
      "cell_type": "code",
      "execution_count": null,
      "metadata": {
        "id": "6sJqsNLh5_Dx"
      },
      "outputs": [],
      "source": [
        "import cv2\n",
        "import numpy as np\n",
        "from google.colab.patches import cv2_imshow\n",
        "image_path = '/content/im21.jpg'\n",
        "image = cv2.imread(image_path)\n",
        "gray = cv2.cvtColor(image, cv2.COLOR_BGR2GRAY)\n",
        "\n",
        "\n",
        "pattern_size = (7, 7)\n",
        "\n",
        "ret, corners = cv2.findChessboardCorners(gray, pattern_size, None)\n",
        "\n",
        "if ret:\n",
        "    cv2.drawChessboardCorners(image, pattern_size, corners, ret)\n",
        "\n",
        "    for i, corner in enumerate(corners):\n",
        "        print(f\"Corner {i}: {corner.ravel()}\")\n",
        "\n",
        "    cv2_imshow(image)\n",
        "    cv2.waitKey(0)\n",
        "    cv2.destroyAllWindows()\n",
        "else:\n",
        "    print(\"Chessboard corners not found.\")\n"
      ]
    }
  ]
}