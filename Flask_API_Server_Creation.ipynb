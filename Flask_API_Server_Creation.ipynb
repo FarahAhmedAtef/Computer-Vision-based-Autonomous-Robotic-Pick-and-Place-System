{
  "nbformat": 4,
  "nbformat_minor": 0,
  "metadata": {
    "colab": {
      "provenance": [],
      "authorship_tag": "ABX9TyOEDsGTR9MsPNvySLBitxLx",
      "include_colab_link": true
    },
    "kernelspec": {
      "name": "python3",
      "display_name": "Python 3"
    },
    "language_info": {
      "name": "python"
    }
  },
  "cells": [
    {
      "cell_type": "markdown",
      "metadata": {
        "id": "view-in-github",
        "colab_type": "text"
      },
      "source": [
        "<a href=\"https://colab.research.google.com/github/FarahAhmedAtef/Computer-Vision-based-Autonomous-Robotic-Pick-and-Place-System/blob/main/Flask_API_Server_Creation.ipynb\" target=\"_parent\"><img src=\"https://colab.research.google.com/assets/colab-badge.svg\" alt=\"Open In Colab\"/></a>"
      ]
    },
    {
      "cell_type": "code",
      "execution_count": null,
      "metadata": {
        "id": "TfNhS9aJo5yo"
      },
      "outputs": [],
      "source": [
        "from flask import Flask, jsonify, request\n",
        "import subprocess\n",
        "import json\n",
        "\n",
        "app = Flask(__name__)\n",
        "\n",
        "@app.route('/detect', methods=['GET','POST'])\n",
        "def detect_objects():\n",
        "\n",
        "    try:\n",
        "        process = subprocess.Popen(\n",
        "            [\"python\", \"run_model.py\", \"--model=my_modellast_ncnn_model\", \"--source=picamera0\", \"--resolution=1640x1232\"],\n",
        "            stdout=subprocess.PIPE,\n",
        "            stderr=subprocess.STDOUT,\n",
        "            text=True\n",
        "        )\n",
        "\n",
        "        # Read stdout line-by-line to avoid buffering issues\n",
        "        for line in process.stdout:\n",
        "            line = line.strip()\n",
        "            try:\n",
        "                result_data = json.loads(line)\n",
        "                process.terminate()  # stop the process early if needed\n",
        "                return jsonify(result_data)  # return as soon as JSON is found\n",
        "            except json.JSONDecodeError:\n",
        "                continue  # not JSON, skip\n",
        "\n",
        "        # If no valid JSON was found\n",
        "        return jsonify({\"error\": \"No JSON found in output\"}), 500\n",
        "\n",
        "    except Exception as e:\n",
        "        return jsonify({\"error\": str(e)}), 500\n",
        "\n",
        "@app.route('/print', methods=['POST'])\n",
        "def print_message():\n",
        "    data = request.get_json()\n",
        "    message = data.get(\"message\", \"<no message>\")\n",
        "    print(f\"[From NiFi] {message}\")\n",
        "    return jsonify({\"status\": \"printed\"}), 200\n",
        "if __name__ == '__main__':\n",
        "    app.run(host='0.0.0.0', port=5000, threaded=True)"
      ]
    }
  ]
}