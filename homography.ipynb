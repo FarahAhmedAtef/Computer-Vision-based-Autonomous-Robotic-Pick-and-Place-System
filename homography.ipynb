{
  "nbformat": 4,
  "nbformat_minor": 0,
  "metadata": {
    "colab": {
      "provenance": [],
      "authorship_tag": "ABX9TyOYE/EuxWWspu/JEdw4OW5X",
      "include_colab_link": true
    },
    "kernelspec": {
      "name": "python3",
      "display_name": "Python 3"
    },
    "language_info": {
      "name": "python"
    }
  },
  "cells": [
    {
      "cell_type": "markdown",
      "metadata": {
        "id": "view-in-github",
        "colab_type": "text"
      },
      "source": [
        "<a href=\"https://colab.research.google.com/github/FarahAhmedAtef/Computer-Vision-based-Autonomous-Robotic-Pick-and-Place-System/blob/main/homography.ipynb\" target=\"_parent\"><img src=\"https://colab.research.google.com/assets/colab-badge.svg\" alt=\"Open In Colab\"/></a>"
      ]
    },
    {
      "cell_type": "code",
      "source": [
        "import cv2\n",
        "import numpy as np\n",
        "\n",
        "image_points = np.array([\n",
        "    [1372,381], [1384,468], [1396,556], [1407,650], [1423,750], [1437, 854],\n",
        "    [1330,853], [1220,851], [1114,   852], [1010,851], [908, 846],\n",
        "    [803, 844], [806, 746], [808, 650], [811, 559], [814, 474],\n",
        "    [815,  392], [904,  388], [995,390], [1086,387], [1183,384],\n",
        "    [1277,384]\n",
        "], dtype=np.float32)\n",
        "\n",
        "world_points = np.array([\n",
        "    [210,107], [231,109], [250,108], [271,107], [289,107], [310,106],\n",
        "    [309,88], [310,68], [310,48], [312,28], [312,9], [312,-11],\n",
        "    [291,-10], [272,-13], [251,-12], [232,-13], [213,-13], [212,6],\n",
        "    [211,27], [211,49], [211,69], [212,87]\n",
        "], dtype=np.float32)\n",
        "\n",
        "H, _ = cv2.findHomography(image_points, world_points)\n",
        "\n",
        "np.save(\"homography_matrix.npy\", H)\n",
        "print(\"Homography matrix saved to 'homography_matrix.npy'\")\n"
      ],
      "metadata": {
        "colab": {
          "base_uri": "https://localhost:8080/"
        },
        "id": "2X699ChR3c5E",
        "outputId": "d474338c-4b82-429c-c552-d614a7816a5e"
      },
      "execution_count": null,
      "outputs": [
        {
          "output_type": "stream",
          "name": "stdout",
          "text": [
            "Homography matrix saved to 'homography_matrix.npy'\n"
          ]
        }
      ]
    }
  ]
}